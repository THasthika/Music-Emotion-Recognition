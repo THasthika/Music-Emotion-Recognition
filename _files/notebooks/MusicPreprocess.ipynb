{
 "cells": [
  {
   "cell_type": "code",
   "execution_count": 10,
   "id": "controlling-reverse",
   "metadata": {},
   "outputs": [],
   "source": [
    "import os\n",
    "import os.path as path\n",
    "\n",
    "from tqdm.notebook import tqdm\n",
    "\n",
    "import pandas as pd\n",
    "import numpy as np\n",
    "\n",
    "import torch\n",
    "import torch.nn as nn\n",
    "import torch.nn.functional as F\n",
    "# import torch.distributions as distributions\n",
    "\n",
    "from torch.utils.data import DataLoader, Dataset, random_split\n",
    "\n",
    "import torchaudio\n",
    "import torchaudio.functional as audioF\n",
    "import torchaudio.transforms as audioT\n",
    "\n",
    "import matplotlib.pyplot as pplot"
   ]
  },
  {
   "cell_type": "code",
   "execution_count": 3,
   "id": "featured-power",
   "metadata": {},
   "outputs": [],
   "source": [
    "audio_file = \"../datasets/DEAM/audio/10.mp3\""
   ]
  },
  {
   "cell_type": "code",
   "execution_count": 5,
   "id": "graduate-shannon",
   "metadata": {},
   "outputs": [],
   "source": [
    "(X, sr) = torchaudio.load(audio_file)"
   ]
  },
  {
   "cell_type": "code",
   "execution_count": 81,
   "id": "hydraulic-boost",
   "metadata": {},
   "outputs": [],
   "source": [
    "class MLayer(nn.Module):\n",
    "    \"\"\"\n",
    "    \n",
    "    \"\"\"\n",
    "    def __init__(self, sample_rate, f_center, bins):\n",
    "        super(MLayer, self).__init__()\n",
    "        self.sample_rate = sample_rate\n",
    "        self.f_center = f_center\n",
    "        \n",
    "#         self.size_in, self.size_out = size_in, size_out\n",
    "#         weights = torch.Tensor(size_out, size_in)\n",
    "#         self.weights = nn.Parameter(weights)  # nn.Parameter is a Tensor that's a module parameter.\n",
    "#         bias = torch.Tensor(size_out)\n",
    "#         self.bias = nn.Parameter(bias)\n",
    "\n",
    "#         # initialize weights and biases\n",
    "#         nn.init.kaiming_uniform_(self.weights, a=math.sqrt(5)) # weight init\n",
    "#         fan_in, _ = nn.init._calculate_fan_in_and_fan_out(self.weights)\n",
    "#         bound = 1 / math.sqrt(fan_in)\n",
    "#         nn.init.uniform_(self.bias, -bound, bound)  # bias init\n",
    "\n",
    "    def forward(self, x):\n",
    "        x = audioF.bandpass_biquad(x, self.sample_rate, self.f_center)\n",
    "        return x"
   ]
  },
  {
   "cell_type": "code",
   "execution_count": 82,
   "id": "white-arlington",
   "metadata": {},
   "outputs": [],
   "source": [
    "def make_signal(amplitude=1, sample_rate=44100, duration=1.0, frequency=440.0):\n",
    "    t = torch.arange(sample_rate*duration) / sample_rate\n",
    "    signal = amplitude * torch.sin(2 * np.pi * frequency * t)\n",
    "    return signal"
   ]
  },
  {
   "cell_type": "code",
   "execution_count": 105,
   "id": "gentle-taylor",
   "metadata": {},
   "outputs": [],
   "source": [
    "X = make_signal(amplitude=1, sample_rate=100, duration=5.0, frequency=1.0)"
   ]
  },
  {
   "cell_type": "code",
   "execution_count": 118,
   "id": "contemporary-steam",
   "metadata": {},
   "outputs": [],
   "source": [
    "l = MLayer(100, f_center=100, bins=20)"
   ]
  },
  {
   "cell_type": "code",
   "execution_count": 119,
   "id": "filled-regard",
   "metadata": {},
   "outputs": [],
   "source": [
    "y = l(X)"
   ]
  },
  {
   "cell_type": "code",
   "execution_count": 120,
   "id": "available-franchise",
   "metadata": {},
   "outputs": [
    {
     "data": {
      "text/plain": [
       "[<matplotlib.lines.Line2D at 0x7f9ec4081f50>]"
      ]
     },
     "execution_count": 120,
     "metadata": {},
     "output_type": "execute_result"
    },
    {
     "data": {
      "image/png": "[encoded data removed]",
      "text/plain": [
       "<Figure size 432x288 with 1 Axes>"
      ]
     },
     "metadata": {
      "needs_background": "light"
     },
     "output_type": "display_data"
    }
   ],
   "source": [
    "pplot.plot(np.arange(0, 5*100)/100, y)"
   ]
  },
  {
   "cell_type": "code",
   "execution_count": 146,
   "id": "sufficient-detection",
   "metadata": {},
   "outputs": [],
   "source": [
    "def make_scale(scale_count=9, ref=440.0, ref_pos=57):\n",
    "    a = torch.pow(torch.Tensor([2]), torch.Tensor([1/12]))\n",
    "    l = torch.arange(0, scale_count*12) - ref_pos\n",
    "    fx = ref * torch.pow(a, l)\n",
    "    return fx"
   ]
  },
  {
   "cell_type": "code",
   "execution_count": 147,
   "id": "periodic-investigation",
   "metadata": {},
   "outputs": [
    {
     "data": {
      "text/plain": [
       "tensor([  16.3516,   17.3239,   18.3540,   19.4454,   20.6017,   21.8267,\n",
       "          23.1246,   24.4997,   25.9565,   27.4999,   29.1352,   30.8676,\n",
       "          32.7031,   34.6478,   36.7080,   38.8908,   41.2034,   43.6535,\n",
       "          46.2492,   48.9993,   51.9130,   54.9999,   58.2704,   61.7353,\n",
       "          65.4063,   69.2956,   73.4161,   77.7816,   82.4068,   87.3069,\n",
       "          92.4985,   97.9987,  103.8261,  109.9999,  116.5408,  123.4707,\n",
       "         130.8127,  138.5912,  146.8323,  155.5634,  164.8136,  174.6140,\n",
       "         184.9971,  195.9976,  207.6522,  219.9999,  233.0818,  246.9415,\n",
       "         261.6255,  277.1825,  293.6647,  311.1269,  329.6275,  349.2282,\n",
       "         369.9944,  391.9954,  415.3047,  440.0000,  466.1638,  493.8834,\n",
       "         523.2512,  554.3654,  587.3297,  622.2541,  659.2553,  698.4567,\n",
       "         739.9892,  783.9912,  830.6098,  880.0005,  932.3281,  987.7672,\n",
       "        1046.5029, 1108.7314, 1174.6600, 1244.5089, 1318.5114, 1396.9142,\n",
       "        1479.9791, 1567.9833, 1661.2206, 1760.0018, 1864.6572, 1975.5355,\n",
       "        2093.0071, 2217.4639, 2349.3213, 2489.0193, 2637.0242, 2793.8301,\n",
       "        2959.9597, 3135.9685, 3322.4429, 3520.0059, 3729.3167, 3951.0735,\n",
       "        4186.0166, 4434.9302, 4698.6455, 4978.0415, 5274.0518, 5587.6631,\n",
       "        5919.9229, 6271.9404, 6644.8896, 7040.0161, 7458.6372, 7902.1514])"
      ]
     },
     "execution_count": 147,
     "metadata": {},
     "output_type": "execute_result"
    }
   ],
   "source": [
    "make_scale()"
   ]
  },
  {
   "cell_type": "code",
   "execution_count": 162,
   "id": "chronic-closer",
   "metadata": {},
   "outputs": [],
   "source": [
    "loss = torch.nn.CrossEntropyLoss()\n",
    "inx = torch.randn(3, 5, requires_grad=True)\n",
    "target = torch.empty(3, dtype=torch.long).random_(5)\n",
    "output = loss(inx, target)"
   ]
  },
  {
   "cell_type": "code",
   "execution_count": 166,
   "id": "natural-female",
   "metadata": {},
   "outputs": [
    {
     "data": {
      "text/plain": [
       "tensor([1, 1, 3])"
      ]
     },
     "execution_count": 166,
     "metadata": {},
     "output_type": "execute_result"
    }
   ],
   "source": [
    "torch.empty(3, dtype=torch.long).random_(5)"
   ]
  }
 ],
 "metadata": {
  "kernelspec": {
   "display_name": "research_kernel",
   "language": "python",
   "name": "research_kernel"
  },
  "language_info": {
   "codemirror_mode": {
    "name": "ipython",
    "version": 3
   },
   "file_extension": ".py",
   "mimetype": "text/x-python",
   "name": "python",
   "nbconvert_exporter": "python",
   "pygments_lexer": "ipython3",
   "version": "3.7.9"
  }
 },
 "nbformat": 4,
 "nbformat_minor": 5
}
